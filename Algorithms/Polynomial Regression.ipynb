{
 "cells": [
  {
   "cell_type": "markdown",
   "id": "3534924b",
   "metadata": {},
   "source": [
    "# IMPORT LIBRARIES"
   ]
  },
  {
   "cell_type": "code",
   "execution_count": null,
   "id": "8c110cc7",
   "metadata": {},
   "outputs": [],
   "source": [
    "import pandas as pd\n",
    "import numpy as np\n",
    "import matplotlib.pyplot as plt\n",
    "%matplotlib inline"
   ]
  },
  {
   "cell_type": "code",
   "execution_count": 2,
   "id": "ed5d6bb6",
   "metadata": {},
   "outputs": [],
   "source": [
    "X=6*np.random.rand(100,1)-3\n",
    "Y=0.5*X**2+1.5*X+2+np.random.rand(100,1)"
   ]
  },
  {
   "cell_type": "code",
   "execution_count": 22,
   "id": "be923f74",
   "metadata": {},
   "outputs": [
    {
     "data": {
      "text/plain": [
       "Text(0, 0.5, 'Y-Dataset')"
      ]
     },
     "execution_count": 22,
     "metadata": {},
     "output_type": "execute_result"
    },
    {
     "data": {
      "image/png": "[encoded data removed]",
      "text/plain": [
       "<Figure size 640x480 with 1 Axes>"
      ]
     },
     "metadata": {},
     "output_type": "display_data"
    }
   ],
   "source": [
    "plt.scatter(X,Y,c='teal')\n",
    "plt.xlabel(\"X-Dataset\")\n",
    "plt.ylabel(\"Y-Dataset\")"
   ]
  },
  {
   "cell_type": "code",
   "execution_count": 14,
   "id": "7f2252d4",
   "metadata": {},
   "outputs": [],
   "source": [
    "from sklearn.model_selection import train_test_split\n",
    "X_train,X_test,Y_train,Y_test=train_test_split(X,Y,test_size=0.25,random_state=42)"
   ]
  },
  {
   "cell_type": "code",
   "execution_count": 17,
   "id": "373b6890",
   "metadata": {},
   "outputs": [],
   "source": [
    "from sklearn.linear_model import LinearRegression\n",
    "reg=LinearRegression()"
   ]
  },
  {
   "cell_type": "code",
   "execution_count": 18,
   "id": "2aeaaa12",
   "metadata": {},
   "outputs": [
    {
     "data": {
      "text/html": [
       "<style>#sk-container-id-1 {\n",
       "  /* Definition of color scheme common for light and dark mode */\n",
       "  --sklearn-color-text: black;\n",
       "  --sklearn-color-line: gray;\n",
       "  /* Definition of color scheme for unfitted estimators */\n",
       "  --sklearn-color-unfitted-level-0: #fff5e6;\n",
       "  --sklearn-color-unfitted-level-1: #f6e4d2;\n",
       "  --sklearn-color-unfitted-level-2: #ffe0b3;\n",
       "  --sklearn-color-unfitted-level-3: chocolate;\n",
       "  /* Definition of color scheme for fitted estimators */\n",
       "  --sklearn-color-fitted-level-0: #f0f8ff;\n",
       "  --sklearn-color-fitted-level-1: #d4ebff;\n",
       "  --sklearn-color-fitted-level-2: #b3dbfd;\n",
       "  --sklearn-color-fitted-level-3: cornflowerblue;\n",
       "\n",
       "  /* Specific color for light theme */\n",
       "  --sklearn-color-text-on-default-background: var(--sg-text-color, var(--theme-code-foreground, var(--jp-content-font-color1, black)));\n",
       "  --sklearn-color-background: var(--sg-background-color, var(--theme-background, var(--jp-layout-color0, white)));\n",
       "  --sklearn-color-border-box: var(--sg-text-color, var(--theme-code-foreground, var(--jp-content-font-color1, black)));\n",
       "  --sklearn-color-icon: #696969;\n",
       "\n",
       "  @media (prefers-color-scheme: dark) {\n",
       "    /* Redefinition of color scheme for dark theme */\n",
       "    --sklearn-color-text-on-default-background: var(--sg-text-color, var(--theme-code-foreground, var(--jp-content-font-color1, white)));\n",
       "    --sklearn-color-background: var(--sg-background-color, var(--theme-background, var(--jp-layout-color0, #111)));\n",
       "    --sklearn-color-border-box: var(--sg-text-color, var(--theme-code-foreground, var(--jp-content-font-color1, white)));\n",
       "    --sklearn-color-icon: #878787;\n",
       "  }\n",
       "}\n",
       "\n",
       "#sk-container-id-1 {\n",
       "  color: var(--sklearn-color-text);\n",
       "}\n",
       "\n",
       "#sk-container-id-1 pre {\n",
       "  padding: 0;\n",
       "}\n",
       "\n",
       "#sk-container-id-1 input.sk-hidden--visually {\n",
       "  border: 0;\n",
       "  clip: rect(1px 1px 1px 1px);\n",
       "  clip: rect(1px, 1px, 1px, 1px);\n",
       "  height: 1px;\n",
       "  margin: -1px;\n",
       "  overflow: hidden;\n",
       "  padding: 0;\n",
       "  position: absolute;\n",
       "  width: 1px;\n",
       "}\n",
       "\n",
       "#sk-container-id-1 div.sk-dashed-wrapped {\n",
       "  border: 1px dashed var(--sklearn-color-line);\n",
       "  margin: 0 0.4em 0.5em 0.4em;\n",
       "  box-sizing: border-box;\n",
       "  padding-bottom: 0.4em;\n",
       "  background-color: var(--sklearn-color-background);\n",
       "}\n",
       "\n",
       "#sk-container-id-1 div.sk-container {\n",
       "  /* jupyter's `normalize.less` sets `[hidden] { display: none; }`\n",
       "     but bootstrap.min.css set `[hidden] { display: none !important; }`\n",
       "     so we also need the `!important` here to be able to override the\n",
       "     default hidden behavior on the sphinx rendered scikit-learn.org.\n",
       "     See: https://github.com/scikit-learn/scikit-learn/issues/21755 */\n",
       "  display: inline-block !important;\n",
       "  position: relative;\n",
       "}\n",
       "\n",
       "#sk-container-id-1 div.sk-text-repr-fallback {\n",
       "  display: none;\n",
       "}\n",
       "\n",
       "div.sk-parallel-item,\n",
       "div.sk-serial,\n",
       "div.sk-item {\n",
       "  /* draw centered vertical line to link estimators */\n",
       "  background-image: linear-gradient(var(--sklearn-color-text-on-default-background), var(--sklearn-color-text-on-default-background));\n",
       "  background-size: 2px 100%;\n",
       "  background-repeat: no-repeat;\n",
       "  background-position: center center;\n",
       "}\n",
       "\n",
       "/* Parallel-specific style estimator block */\n",
       "\n",
       "#sk-container-id-1 div.sk-parallel-item::after {\n",
       "  content: \"\";\n",
       "  width: 100%;\n",
       "  border-bottom: 2px solid var(--sklearn-color-text-on-default-background);\n",
       "  flex-grow: 1;\n",
       "}\n",
       "\n",
       "#sk-container-id-1 div.sk-parallel {\n",
       "  display: flex;\n",
       "  align-items: stretch;\n",
       "  justify-content: center;\n",
       "  background-color: var(--sklearn-color-background);\n",
       "  position: relative;\n",
       "}\n",
       "\n",
       "#sk-container-id-1 div.sk-parallel-item {\n",
       "  display: flex;\n",
       "  flex-direction: column;\n",
       "}\n",
       "\n",
       "#sk-container-id-1 div.sk-parallel-item:first-child::after {\n",
       "  align-self: flex-end;\n",
       "  width: 50%;\n",
       "}\n",
       "\n",
       "#sk-container-id-1 div.sk-parallel-item:last-child::after {\n",
       "  align-self: flex-start;\n",
       "  width: 50%;\n",
       "}\n",
       "\n",
       "#sk-container-id-1 div.sk-parallel-item:only-child::after {\n",
       "  width: 0;\n",
       "}\n",
       "\n",
       "/* Serial-specific style estimator block */\n",
       "\n",
       "#sk-container-id-1 div.sk-serial {\n",
       "  display: flex;\n",
       "  flex-direction: column;\n",
       "  align-items: center;\n",
       "  background-color: var(--sklearn-color-background);\n",
       "  padding-right: 1em;\n",
       "  padding-left: 1em;\n",
       "}\n",
       "\n",
       "\n",
       "/* Toggleable style: style used for estimator/Pipeline/ColumnTransformer box that is\n",
       "clickable and can be expanded/collapsed.\n",
       "- Pipeline and ColumnTransformer use this feature and define the default style\n",
       "- Estimators will overwrite some part of the style using the `sk-estimator` class\n",
       "*/\n",
       "\n",
       "/* Pipeline and ColumnTransformer style (default) */\n",
       "\n",
       "#sk-container-id-1 div.sk-toggleable {\n",
       "  /* Default theme specific background. It is overwritten whether we have a\n",
       "  specific estimator or a Pipeline/ColumnTransformer */\n",
       "  background-color: var(--sklearn-color-background);\n",
       "}\n",
       "\n",
       "/* Toggleable label */\n",
       "#sk-container-id-1 label.sk-toggleable__label {\n",
       "  cursor: pointer;\n",
       "  display: block;\n",
       "  width: 100%;\n",
       "  margin-bottom: 0;\n",
       "  padding: 0.5em;\n",
       "  box-sizing: border-box;\n",
       "  text-align: center;\n",
       "}\n",
       "\n",
       "#sk-container-id-1 label.sk-toggleable__label-arrow:before {\n",
       "  /* Arrow on the left of the label */\n",
       "  content: \"▸\";\n",
       "  float: left;\n",
       "  margin-right: 0.25em;\n",
       "  color: var(--sklearn-color-icon);\n",
       "}\n",
       "\n",
       "#sk-container-id-1 label.sk-toggleable__label-arrow:hover:before {\n",
       "  color: var(--sklearn-color-text);\n",
       "}\n",
       "\n",
       "/* Toggleable content - dropdown */\n",
       "\n",
       "#sk-container-id-1 div.sk-toggleable__content {\n",
       "  max-height: 0;\n",
       "  max-width: 0;\n",
       "  overflow: hidden;\n",
       "  text-align: left;\n",
       "  /* unfitted */\n",
       "  background-color: var(--sklearn-color-unfitted-level-0);\n",
       "}\n",
       "\n",
       "#sk-container-id-1 div.sk-toggleable__content.fitted {\n",
       "  /* fitted */\n",
       "  background-color: var(--sklearn-color-fitted-level-0);\n",
       "}\n",
       "\n",
       "#sk-container-id-1 div.sk-toggleable__content pre {\n",
       "  margin: 0.2em;\n",
       "  border-radius: 0.25em;\n",
       "  color: var(--sklearn-color-text);\n",
       "  /* unfitted */\n",
       "  background-color: var(--sklearn-color-unfitted-level-0);\n",
       "}\n",
       "\n",
       "#sk-container-id-1 div.sk-toggleable__content.fitted pre {\n",
       "  /* unfitted */\n",
       "  background-color: var(--sklearn-color-fitted-level-0);\n",
       "}\n",
       "\n",
       "#sk-container-id-1 input.sk-toggleable__control:checked~div.sk-toggleable__content {\n",
       "  /* Expand drop-down */\n",
       "  max-height: 200px;\n",
       "  max-width: 100%;\n",
       "  overflow: auto;\n",
       "}\n",
       "\n",
       "#sk-container-id-1 input.sk-toggleable__control:checked~label.sk-toggleable__label-arrow:before {\n",
       "  content: \"▾\";\n",
       "}\n",
       "\n",
       "/* Pipeline/ColumnTransformer-specific style */\n",
       "\n",
       "#sk-container-id-1 div.sk-label input.sk-toggleable__control:checked~label.sk-toggleable__label {\n",
       "  color: var(--sklearn-color-text);\n",
       "  background-color: var(--sklearn-color-unfitted-level-2);\n",
       "}\n",
       "\n",
       "#sk-container-id-1 div.sk-label.fitted input.sk-toggleable__control:checked~label.sk-toggleable__label {\n",
       "  background-color: var(--sklearn-color-fitted-level-2);\n",
       "}\n",
       "\n",
       "/* Estimator-specific style */\n",
       "\n",
       "/* Colorize estimator box */\n",
       "#sk-container-id-1 div.sk-estimator input.sk-toggleable__control:checked~label.sk-toggleable__label {\n",
       "  /* unfitted */\n",
       "  background-color: var(--sklearn-color-unfitted-level-2);\n",
       "}\n",
       "\n",
       "#sk-container-id-1 div.sk-estimator.fitted input.sk-toggleable__control:checked~label.sk-toggleable__label {\n",
       "  /* fitted */\n",
       "  background-color: var(--sklearn-color-fitted-level-2);\n",
       "}\n",
       "\n",
       "#sk-container-id-1 div.sk-label label.sk-toggleable__label,\n",
       "#sk-container-id-1 div.sk-label label {\n",
       "  /* The background is the default theme color */\n",
       "  color: var(--sklearn-color-text-on-default-background);\n",
       "}\n",
       "\n",
       "/* On hover, darken the color of the background */\n",
       "#sk-container-id-1 div.sk-label:hover label.sk-toggleable__label {\n",
       "  color: var(--sklearn-color-text);\n",
       "  background-color: var(--sklearn-color-unfitted-level-2);\n",
       "}\n",
       "\n",
       "/* Label box, darken color on hover, fitted */\n",
       "#sk-container-id-1 div.sk-label.fitted:hover label.sk-toggleable__label.fitted {\n",
       "  color: var(--sklearn-color-text);\n",
       "  background-color: var(--sklearn-color-fitted-level-2);\n",
       "}\n",
       "\n",
       "/* Estimator label */\n",
       "\n",
       "#sk-container-id-1 div.sk-label label {\n",
       "  font-family: monospace;\n",
       "  font-weight: bold;\n",
       "  display: inline-block;\n",
       "  line-height: 1.2em;\n",
       "}\n",
       "\n",
       "#sk-container-id-1 div.sk-label-container {\n",
       "  text-align: center;\n",
       "}\n",
       "\n",
       "/* Estimator-specific */\n",
       "#sk-container-id-1 div.sk-estimator {\n",
       "  font-family: monospace;\n",
       "  border: 1px dotted var(--sklearn-color-border-box);\n",
       "  border-radius: 0.25em;\n",
       "  box-sizing: border-box;\n",
       "  margin-bottom: 0.5em;\n",
       "  /* unfitted */\n",
       "  background-color: var(--sklearn-color-unfitted-level-0);\n",
       "}\n",
       "\n",
       "#sk-container-id-1 div.sk-estimator.fitted {\n",
       "  /* fitted */\n",
       "  background-color: var(--sklearn-color-fitted-level-0);\n",
       "}\n",
       "\n",
       "/* on hover */\n",
       "#sk-container-id-1 div.sk-estimator:hover {\n",
       "  /* unfitted */\n",
       "  background-color: var(--sklearn-color-unfitted-level-2);\n",
       "}\n",
       "\n",
       "#sk-container-id-1 div.sk-estimator.fitted:hover {\n",
       "  /* fitted */\n",
       "  background-color: var(--sklearn-color-fitted-level-2);\n",
       "}\n",
       "\n",
       "/* Specification for estimator info (e.g. \"i\" and \"?\") */\n",
       "\n",
       "/* Common style for \"i\" and \"?\" */\n",
       "\n",
       ".sk-estimator-doc-link,\n",
       "a:link.sk-estimator-doc-link,\n",
       "a:visited.sk-estimator-doc-link {\n",
       "  float: right;\n",
       "  font-size: smaller;\n",
       "  line-height: 1em;\n",
       "  font-family: monospace;\n",
       "  background-color: var(--sklearn-color-background);\n",
       "  border-radius: 1em;\n",
       "  height: 1em;\n",
       "  width: 1em;\n",
       "  text-decoration: none !important;\n",
       "  margin-left: 1ex;\n",
       "  /* unfitted */\n",
       "  border: var(--sklearn-color-unfitted-level-1) 1pt solid;\n",
       "  color: var(--sklearn-color-unfitted-level-1);\n",
       "}\n",
       "\n",
       ".sk-estimator-doc-link.fitted,\n",
       "a:link.sk-estimator-doc-link.fitted,\n",
       "a:visited.sk-estimator-doc-link.fitted {\n",
       "  /* fitted */\n",
       "  border: var(--sklearn-color-fitted-level-1) 1pt solid;\n",
       "  color: var(--sklearn-color-fitted-level-1);\n",
       "}\n",
       "\n",
       "/* On hover */\n",
       "div.sk-estimator:hover .sk-estimator-doc-link:hover,\n",
       ".sk-estimator-doc-link:hover,\n",
       "div.sk-label-container:hover .sk-estimator-doc-link:hover,\n",
       ".sk-estimator-doc-link:hover {\n",
       "  /* unfitted */\n",
       "  background-color: var(--sklearn-color-unfitted-level-3);\n",
       "  color: var(--sklearn-color-background);\n",
       "  text-decoration: none;\n",
       "}\n",
       "\n",
       "div.sk-estimator.fitted:hover .sk-estimator-doc-link.fitted:hover,\n",
       ".sk-estimator-doc-link.fitted:hover,\n",
       "div.sk-label-container:hover .sk-estimator-doc-link.fitted:hover,\n",
       ".sk-estimator-doc-link.fitted:hover {\n",
       "  /* fitted */\n",
       "  background-color: var(--sklearn-color-fitted-level-3);\n",
       "  color: var(--sklearn-color-background);\n",
       "  text-decoration: none;\n",
       "}\n",
       "\n",
       "/* Span, style for the box shown on hovering the info icon */\n",
       ".sk-estimator-doc-link span {\n",
       "  display: none;\n",
       "  z-index: 9999;\n",
       "  position: relative;\n",
       "  font-weight: normal;\n",
       "  right: .2ex;\n",
       "  padding: .5ex;\n",
       "  margin: .5ex;\n",
       "  width: min-content;\n",
       "  min-width: 20ex;\n",
       "  max-width: 50ex;\n",
       "  color: var(--sklearn-color-text);\n",
       "  box-shadow: 2pt 2pt 4pt #999;\n",
       "  /* unfitted */\n",
       "  background: var(--sklearn-color-unfitted-level-0);\n",
       "  border: .5pt solid var(--sklearn-color-unfitted-level-3);\n",
       "}\n",
       "\n",
       ".sk-estimator-doc-link.fitted span {\n",
       "  /* fitted */\n",
       "  background: var(--sklearn-color-fitted-level-0);\n",
       "  border: var(--sklearn-color-fitted-level-3);\n",
       "}\n",
       "\n",
       ".sk-estimator-doc-link:hover span {\n",
       "  display: block;\n",
       "}\n",
       "\n",
       "/* \"?\"-specific style due to the `<a>` HTML tag */\n",
       "\n",
       "#sk-container-id-1 a.estimator_doc_link {\n",
       "  float: right;\n",
       "  font-size: 1rem;\n",
       "  line-height: 1em;\n",
       "  font-family: monospace;\n",
       "  background-color: var(--sklearn-color-background);\n",
       "  border-radius: 1rem;\n",
       "  height: 1rem;\n",
       "  width: 1rem;\n",
       "  text-decoration: none;\n",
       "  /* unfitted */\n",
       "  color: var(--sklearn-color-unfitted-level-1);\n",
       "  border: var(--sklearn-color-unfitted-level-1) 1pt solid;\n",
       "}\n",
       "\n",
       "#sk-container-id-1 a.estimator_doc_link.fitted {\n",
       "  /* fitted */\n",
       "  border: var(--sklearn-color-fitted-level-1) 1pt solid;\n",
       "  color: var(--sklearn-color-fitted-level-1);\n",
       "}\n",
       "\n",
       "/* On hover */\n",
       "#sk-container-id-1 a.estimator_doc_link:hover {\n",
       "  /* unfitted */\n",
       "  background-color: var(--sklearn-color-unfitted-level-3);\n",
       "  color: var(--sklearn-color-background);\n",
       "  text-decoration: none;\n",
       "}\n",
       "\n",
       "#sk-container-id-1 a.estimator_doc_link.fitted:hover {\n",
       "  /* fitted */\n",
       "  background-color: var(--sklearn-color-fitted-level-3);\n",
       "}\n",
       "</style><div id=\"sk-container-id-1\" class=\"sk-top-container\"><div class=\"sk-text-repr-fallback\"><pre>LinearRegression()</pre><b>In a Jupyter environment, please rerun this cell to show the HTML representation or trust the notebook. <br />On GitHub, the HTML representation is unable to render, please try loading this page with nbviewer.org.</b></div><div class=\"sk-container\" hidden><div class=\"sk-item\"><div class=\"sk-estimator fitted sk-toggleable\"><input class=\"sk-toggleable__control sk-hidden--visually\" id=\"sk-estimator-id-1\" type=\"checkbox\" checked><label for=\"sk-estimator-id-1\" class=\"sk-toggleable__label fitted sk-toggleable__label-arrow fitted\">&nbsp;&nbsp;LinearRegression<a class=\"sk-estimator-doc-link fitted\" rel=\"noreferrer\" target=\"_blank\" href=\"https://scikit-learn.org/1.5/modules/generated/sklearn.linear_model.LinearRegression.html\">?<span>Documentation for LinearRegression</span></a><span class=\"sk-estimator-doc-link fitted\">i<span>Fitted</span></span></label><div class=\"sk-toggleable__content fitted\"><pre>LinearRegression()</pre></div> </div></div></div></div>"
      ],
      "text/plain": [
       "LinearRegression()"
      ]
     },
     "execution_count": 18,
     "metadata": {},
     "output_type": "execute_result"
    }
   ],
   "source": [
    "reg.fit(X_train,Y_train)"
   ]
  },
  {
   "cell_type": "code",
   "execution_count": 20,
   "id": "5624df08",
   "metadata": {},
   "outputs": [
    {
     "name": "stdout",
     "output_type": "stream",
     "text": [
      "0.7149280093022177\n"
     ]
    }
   ],
   "source": [
    "from sklearn.metrics import r2_score\n",
    "score=r2_score(Y_test,reg.predict(X_test))\n",
    "print(score)"
   ]
  },
  {
   "cell_type": "code",
   "execution_count": 23,
   "id": "93a9cab7",
   "metadata": {},
   "outputs": [
    {
     "data": {
      "text/plain": [
       "Text(0, 0.5, 'Y-Dataset')"
      ]
     },
     "execution_count": 23,
     "metadata": {},
     "output_type": "execute_result"
    },
    {
     "data": {
      "image/png": "[encoded data removed]",
      "text/plain": [
       "<Figure size 640x480 with 1 Axes>"
      ]
     },
     "metadata": {},
     "output_type": "display_data"
    }
   ],
   "source": [
    "## Visualize\n",
    "plt.plot(X_train,reg.predict(X_train),c='r')\n",
    "plt.scatter(X_train,Y_train)\n",
    "plt.xlabel(\"X-Dataset\")\n",
    "plt.ylabel(\"Y-Dataset\")"
   ]
  },
  {
   "cell_type": "code",
   "execution_count": 25,
   "id": "a38a528b",
   "metadata": {},
   "outputs": [],
   "source": [
    "# Lets APPly Polynomials Transformation\n",
    "from sklearn.preprocessing import PolynomialFeatures"
   ]
  },
  {
   "cell_type": "code",
   "execution_count": 26,
   "id": "39cb5732",
   "metadata": {},
   "outputs": [],
   "source": [
    "polynomial=PolynomialFeatures(degree=2,include_bias=True)\n",
    "X_train_poly=polynomial.fit_transform(X_train)\n",
    "X_test_poly=polynomial.transform(X_test)"
   ]
  },
  {
   "cell_type": "code",
   "execution_count": 28,
   "id": "acfd6c40",
   "metadata": {},
   "outputs": [
    {
     "data": {
      "text/plain": [
       "array([[ 1.        ,  1.95712568,  3.83034094],\n",
       "       [ 1.        ,  2.98964903,  8.93800133],\n",
       "       [ 1.        ,  0.17036015,  0.02902258],\n",
       "       [ 1.        , -0.29415298,  0.08652598],\n",
       "       [ 1.        ,  1.14646263,  1.31437657],\n",
       "       [ 1.        ,  2.83137088,  8.01666108],\n",
       "       [ 1.        , -1.72181823,  2.964658  ],\n",
       "       [ 1.        ,  1.66178101,  2.76151613],\n",
       "       [ 1.        , -0.38567378,  0.14874427],\n",
       "       [ 1.        , -2.67229155,  7.14114215],\n",
       "       [ 1.        ,  1.74748216,  3.0536939 ],\n",
       "       [ 1.        ,  0.11557352,  0.01335724],\n",
       "       [ 1.        ,  1.70193606,  2.89658636],\n",
       "       [ 1.        , -0.22979626,  0.05280632],\n",
       "       [ 1.        ,  1.48247872,  2.19774315],\n",
       "       [ 1.        ,  0.54128125,  0.29298539],\n",
       "       [ 1.        , -2.73422796,  7.47600254],\n",
       "       [ 1.        , -0.26205321,  0.06867189],\n",
       "       [ 1.        ,  2.45203686,  6.01248477],\n",
       "       [ 1.        ,  0.68095824,  0.46370412],\n",
       "       [ 1.        , -0.40235493,  0.16188949],\n",
       "       [ 1.        , -2.09069326,  4.37099832],\n",
       "       [ 1.        , -2.64534472,  6.99784868],\n",
       "       [ 1.        , -2.88629507,  8.33069925],\n",
       "       [ 1.        ,  2.21764222,  4.91793703],\n",
       "       [ 1.        , -1.2202243 ,  1.48894735],\n",
       "       [ 1.        , -2.85671033,  8.16079389],\n",
       "       [ 1.        ,  1.33523828,  1.78286127],\n",
       "       [ 1.        , -2.26666484,  5.13776949],\n",
       "       [ 1.        , -1.7918498 ,  3.21072572],\n",
       "       [ 1.        ,  2.34778028,  5.51207225],\n",
       "       [ 1.        ,  1.37053163,  1.87835695],\n",
       "       [ 1.        ,  1.75307165,  3.07326021],\n",
       "       [ 1.        , -2.39543179,  5.73809344],\n",
       "       [ 1.        ,  2.06126693,  4.24882135],\n",
       "       [ 1.        , -1.94691651,  3.79048389],\n",
       "       [ 1.        , -0.2798354 ,  0.07830785],\n",
       "       [ 1.        , -2.37725706,  5.65135114],\n",
       "       [ 1.        ,  1.8243081 ,  3.32810004],\n",
       "       [ 1.        , -1.16370281,  1.35420422],\n",
       "       [ 1.        , -1.10740245,  1.22634019],\n",
       "       [ 1.        , -1.06521627,  1.13468569],\n",
       "       [ 1.        , -1.7486997 ,  3.05795063],\n",
       "       [ 1.        ,  0.32183453,  0.10357746],\n",
       "       [ 1.        , -1.26395725,  1.59758792],\n",
       "       [ 1.        , -0.79169037,  0.62677364],\n",
       "       [ 1.        ,  2.28604885,  5.22601936],\n",
       "       [ 1.        ,  0.76842772,  0.59048116],\n",
       "       [ 1.        ,  2.66018424,  7.07658018],\n",
       "       [ 1.        , -1.79743954,  3.2307889 ],\n",
       "       [ 1.        ,  2.81008434,  7.89657398],\n",
       "       [ 1.        ,  2.82575111,  7.98486932],\n",
       "       [ 1.        ,  0.97032051,  0.9415219 ],\n",
       "       [ 1.        , -1.7455443 ,  3.04692489],\n",
       "       [ 1.        ,  2.95078632,  8.7071399 ],\n",
       "       [ 1.        ,  1.66555524,  2.77407424],\n",
       "       [ 1.        ,  2.10426507,  4.42793148],\n",
       "       [ 1.        , -0.55591572,  0.30904229],\n",
       "       [ 1.        , -2.57310621,  6.62087557],\n",
       "       [ 1.        ,  0.74801446,  0.55952563],\n",
       "       [ 1.        ,  0.49775546,  0.2477605 ],\n",
       "       [ 1.        ,  1.58473989,  2.51140052],\n",
       "       [ 1.        ,  0.56749422,  0.32204969],\n",
       "       [ 1.        ,  2.48600239,  6.18020786],\n",
       "       [ 1.        ,  2.25364393,  5.07891098],\n",
       "       [ 1.        ,  1.04677223,  1.0957321 ],\n",
       "       [ 1.        ,  2.87108554,  8.24313215],\n",
       "       [ 1.        ,  0.77593134,  0.60206945],\n",
       "       [ 1.        , -2.09244692,  4.37833409],\n",
       "       [ 1.        , -2.34901148,  5.51785492],\n",
       "       [ 1.        ,  1.65183896,  2.72857194],\n",
       "       [ 1.        ,  0.35147486,  0.12353458],\n",
       "       [ 1.        ,  1.62913875,  2.65409305],\n",
       "       [ 1.        ,  1.66130409,  2.75993127],\n",
       "       [ 1.        ,  0.93280495,  0.87012508]])"
      ]
     },
     "execution_count": 28,
     "metadata": {},
     "output_type": "execute_result"
    }
   ],
   "source": [
    "X_train_poly"
   ]
  },
  {
   "cell_type": "code",
   "execution_count": 32,
   "id": "df039197",
   "metadata": {},
   "outputs": [
    {
     "name": "stdout",
     "output_type": "stream",
     "text": [
      "0.986306597650753\n"
     ]
    }
   ],
   "source": [
    "from sklearn.metrics import r2_score\n",
    "regression=LinearRegression()\n",
    "regression.fit(X_train_poly,Y_train)\n",
    "Y_pred=regression.predict(X_test_poly)\n",
    "score=r2_score(Y_test,Y_pred)\n",
    "print(score)"
   ]
  },
  {
   "cell_type": "code",
   "execution_count": 35,
   "id": "fdb0e42f",
   "metadata": {},
   "outputs": [
    {
     "name": "stdout",
     "output_type": "stream",
     "text": [
      "[[0.         1.49916154 0.50296841]]\n"
     ]
    }
   ],
   "source": [
    "print(regression.coef_)"
   ]
  },
  {
   "cell_type": "code",
   "execution_count": 39,
   "id": "984df2d7",
   "metadata": {},
   "outputs": [
    {
     "name": "stdout",
     "output_type": "stream",
     "text": [
      "[2.53123291]\n"
     ]
    }
   ],
   "source": [
    "print(regression.intercept_)"
   ]
  },
  {
   "cell_type": "code",
   "execution_count": 42,
   "id": "9acd3da0",
   "metadata": {},
   "outputs": [
    {
     "data": {
      "text/plain": [
       "<matplotlib.collections.PathCollection at 0x22fe3c25000>"
      ]
     },
     "execution_count": 42,
     "metadata": {},
     "output_type": "execute_result"
    },
    {
     "data": {
      "image/png": "[encoded data removed]",
      "text/plain": [
       "<Figure size 640x480 with 1 Axes>"
      ]
     },
     "metadata": {},
     "output_type": "display_data"
    }
   ],
   "source": [
    "plt.scatter(X_train,regression.predict(X_train_poly))\n",
    "plt.scatter(X_train,Y_train)"
   ]
  },
  {
   "cell_type": "code",
   "execution_count": 44,
   "id": "f8e65efc",
   "metadata": {
    "scrolled": false
   },
   "outputs": [
    {
     "data": {
      "text/plain": [
       "<matplotlib.collections.PathCollection at 0x22fe3cdde40>"
      ]
     },
     "execution_count": 44,
     "metadata": {},
     "output_type": "execute_result"
    },
    {
     "data": {
      "image/png": "[encoded data removed]",
      "text/plain": [
       "<Figure size 640x480 with 1 Axes>"
      ]
     },
     "metadata": {},
     "output_type": "display_data"
    }
   ],
   "source": [
    "plt.scatter(X_train,regression.predict(X_train_poly))\n",
    "plt.scatter(X_test,Y_test)"
   ]
  },
  {
   "cell_type": "code",
   "execution_count": 46,
   "id": "0e00e6e6",
   "metadata": {},
   "outputs": [],
   "source": [
    "## Prediction of new data\n",
    "X_new = np.linspace(-3,3,200).reshape(200,1)\n",
    "X_new_poly = polynomial.transform(X_new)"
   ]
  },
  {
   "cell_type": "code",
   "execution_count": 47,
   "id": "41fd80a5",
   "metadata": {},
   "outputs": [
    {
     "data": {
      "text/plain": [
       "array([[ 1.00000000e+00, -3.00000000e+00,  9.00000000e+00],\n",
       "       [ 1.00000000e+00, -2.96984925e+00,  8.82000455e+00],\n",
       "       [ 1.00000000e+00, -2.93969849e+00,  8.64182723e+00],\n",
       "       [ 1.00000000e+00, -2.90954774e+00,  8.46546804e+00],\n",
       "       [ 1.00000000e+00, -2.87939698e+00,  8.29092700e+00],\n",
       "       [ 1.00000000e+00, -2.84924623e+00,  8.11820409e+00],\n",
       "       [ 1.00000000e+00, -2.81909548e+00,  7.94729931e+00],\n",
       "       [ 1.00000000e+00, -2.78894472e+00,  7.77821267e+00],\n",
       "       [ 1.00000000e+00, -2.75879397e+00,  7.61094417e+00],\n",
       "       [ 1.00000000e+00, -2.72864322e+00,  7.44549380e+00],\n",
       "       [ 1.00000000e+00, -2.69849246e+00,  7.28186157e+00],\n",
       "       [ 1.00000000e+00, -2.66834171e+00,  7.12004747e+00],\n",
       "       [ 1.00000000e+00, -2.63819095e+00,  6.96005151e+00],\n",
       "       [ 1.00000000e+00, -2.60804020e+00,  6.80187369e+00],\n",
       "       [ 1.00000000e+00, -2.57788945e+00,  6.64551400e+00],\n",
       "       [ 1.00000000e+00, -2.54773869e+00,  6.49097245e+00],\n",
       "       [ 1.00000000e+00, -2.51758794e+00,  6.33824903e+00],\n",
       "       [ 1.00000000e+00, -2.48743719e+00,  6.18734375e+00],\n",
       "       [ 1.00000000e+00, -2.45728643e+00,  6.03825661e+00],\n",
       "       [ 1.00000000e+00, -2.42713568e+00,  5.89098760e+00],\n",
       "       [ 1.00000000e+00, -2.39698492e+00,  5.74553673e+00],\n",
       "       [ 1.00000000e+00, -2.36683417e+00,  5.60190399e+00],\n",
       "       [ 1.00000000e+00, -2.33668342e+00,  5.46008939e+00],\n",
       "       [ 1.00000000e+00, -2.30653266e+00,  5.32009293e+00],\n",
       "       [ 1.00000000e+00, -2.27638191e+00,  5.18191460e+00],\n",
       "       [ 1.00000000e+00, -2.24623116e+00,  5.04555441e+00],\n",
       "       [ 1.00000000e+00, -2.21608040e+00,  4.91101235e+00],\n",
       "       [ 1.00000000e+00, -2.18592965e+00,  4.77828843e+00],\n",
       "       [ 1.00000000e+00, -2.15577889e+00,  4.64738264e+00],\n",
       "       [ 1.00000000e+00, -2.12562814e+00,  4.51829499e+00],\n",
       "       [ 1.00000000e+00, -2.09547739e+00,  4.39102548e+00],\n",
       "       [ 1.00000000e+00, -2.06532663e+00,  4.26557410e+00],\n",
       "       [ 1.00000000e+00, -2.03517588e+00,  4.14194086e+00],\n",
       "       [ 1.00000000e+00, -2.00502513e+00,  4.02012575e+00],\n",
       "       [ 1.00000000e+00, -1.97487437e+00,  3.90012878e+00],\n",
       "       [ 1.00000000e+00, -1.94472362e+00,  3.78194995e+00],\n",
       "       [ 1.00000000e+00, -1.91457286e+00,  3.66558925e+00],\n",
       "       [ 1.00000000e+00, -1.88442211e+00,  3.55104669e+00],\n",
       "       [ 1.00000000e+00, -1.85427136e+00,  3.43832226e+00],\n",
       "       [ 1.00000000e+00, -1.82412060e+00,  3.32741597e+00],\n",
       "       [ 1.00000000e+00, -1.79396985e+00,  3.21832782e+00],\n",
       "       [ 1.00000000e+00, -1.76381910e+00,  3.11105780e+00],\n",
       "       [ 1.00000000e+00, -1.73366834e+00,  3.00560592e+00],\n",
       "       [ 1.00000000e+00, -1.70351759e+00,  2.90197217e+00],\n",
       "       [ 1.00000000e+00, -1.67336683e+00,  2.80015656e+00],\n",
       "       [ 1.00000000e+00, -1.64321608e+00,  2.70015909e+00],\n",
       "       [ 1.00000000e+00, -1.61306533e+00,  2.60197975e+00],\n",
       "       [ 1.00000000e+00, -1.58291457e+00,  2.50561854e+00],\n",
       "       [ 1.00000000e+00, -1.55276382e+00,  2.41107548e+00],\n",
       "       [ 1.00000000e+00, -1.52261307e+00,  2.31835055e+00],\n",
       "       [ 1.00000000e+00, -1.49246231e+00,  2.22744375e+00],\n",
       "       [ 1.00000000e+00, -1.46231156e+00,  2.13835509e+00],\n",
       "       [ 1.00000000e+00, -1.43216080e+00,  2.05108457e+00],\n",
       "       [ 1.00000000e+00, -1.40201005e+00,  1.96563218e+00],\n",
       "       [ 1.00000000e+00, -1.37185930e+00,  1.88199793e+00],\n",
       "       [ 1.00000000e+00, -1.34170854e+00,  1.80018181e+00],\n",
       "       [ 1.00000000e+00, -1.31155779e+00,  1.72018383e+00],\n",
       "       [ 1.00000000e+00, -1.28140704e+00,  1.64200399e+00],\n",
       "       [ 1.00000000e+00, -1.25125628e+00,  1.56564228e+00],\n",
       "       [ 1.00000000e+00, -1.22110553e+00,  1.49109871e+00],\n",
       "       [ 1.00000000e+00, -1.19095477e+00,  1.41837327e+00],\n",
       "       [ 1.00000000e+00, -1.16080402e+00,  1.34746597e+00],\n",
       "       [ 1.00000000e+00, -1.13065327e+00,  1.27837681e+00],\n",
       "       [ 1.00000000e+00, -1.10050251e+00,  1.21110578e+00],\n",
       "       [ 1.00000000e+00, -1.07035176e+00,  1.14565289e+00],\n",
       "       [ 1.00000000e+00, -1.04020101e+00,  1.08201813e+00],\n",
       "       [ 1.00000000e+00, -1.01005025e+00,  1.02020151e+00],\n",
       "       [ 1.00000000e+00, -9.79899497e-01,  9.60203025e-01],\n",
       "       [ 1.00000000e+00, -9.49748744e-01,  9.02022676e-01],\n",
       "       [ 1.00000000e+00, -9.19597990e-01,  8.45660463e-01],\n",
       "       [ 1.00000000e+00, -8.89447236e-01,  7.91116386e-01],\n",
       "       [ 1.00000000e+00, -8.59296482e-01,  7.38390445e-01],\n",
       "       [ 1.00000000e+00, -8.29145729e-01,  6.87482639e-01],\n",
       "       [ 1.00000000e+00, -7.98994975e-01,  6.38392970e-01],\n",
       "       [ 1.00000000e+00, -7.68844221e-01,  5.91121436e-01],\n",
       "       [ 1.00000000e+00, -7.38693467e-01,  5.45668039e-01],\n",
       "       [ 1.00000000e+00, -7.08542714e-01,  5.02032777e-01],\n",
       "       [ 1.00000000e+00, -6.78391960e-01,  4.60215651e-01],\n",
       "       [ 1.00000000e+00, -6.48241206e-01,  4.20216661e-01],\n",
       "       [ 1.00000000e+00, -6.18090452e-01,  3.82035807e-01],\n",
       "       [ 1.00000000e+00, -5.87939698e-01,  3.45673089e-01],\n",
       "       [ 1.00000000e+00, -5.57788945e-01,  3.11128507e-01],\n",
       "       [ 1.00000000e+00, -5.27638191e-01,  2.78402061e-01],\n",
       "       [ 1.00000000e+00, -4.97487437e-01,  2.47493750e-01],\n",
       "       [ 1.00000000e+00, -4.67336683e-01,  2.18403576e-01],\n",
       "       [ 1.00000000e+00, -4.37185930e-01,  1.91131537e-01],\n",
       "       [ 1.00000000e+00, -4.07035176e-01,  1.65677634e-01],\n",
       "       [ 1.00000000e+00, -3.76884422e-01,  1.42041868e-01],\n",
       "       [ 1.00000000e+00, -3.46733668e-01,  1.20224237e-01],\n",
       "       [ 1.00000000e+00, -3.16582915e-01,  1.00224742e-01],\n",
       "       [ 1.00000000e+00, -2.86432161e-01,  8.20433827e-02],\n",
       "       [ 1.00000000e+00, -2.56281407e-01,  6.56801596e-02],\n",
       "       [ 1.00000000e+00, -2.26130653e-01,  5.11350723e-02],\n",
       "       [ 1.00000000e+00, -1.95979899e-01,  3.84081210e-02],\n",
       "       [ 1.00000000e+00, -1.65829146e-01,  2.74993056e-02],\n",
       "       [ 1.00000000e+00, -1.35678392e-01,  1.84086260e-02],\n",
       "       [ 1.00000000e+00, -1.05527638e-01,  1.11360824e-02],\n",
       "       [ 1.00000000e+00, -7.53768844e-02,  5.68167471e-03],\n",
       "       [ 1.00000000e+00, -4.52261307e-02,  2.04540289e-03],\n",
       "       [ 1.00000000e+00, -1.50753769e-02,  2.27266988e-04],\n",
       "       [ 1.00000000e+00,  1.50753769e-02,  2.27266988e-04],\n",
       "       [ 1.00000000e+00,  4.52261307e-02,  2.04540289e-03],\n",
       "       [ 1.00000000e+00,  7.53768844e-02,  5.68167471e-03],\n",
       "       [ 1.00000000e+00,  1.05527638e-01,  1.11360824e-02],\n",
       "       [ 1.00000000e+00,  1.35678392e-01,  1.84086260e-02],\n",
       "       [ 1.00000000e+00,  1.65829146e-01,  2.74993056e-02],\n",
       "       [ 1.00000000e+00,  1.95979899e-01,  3.84081210e-02],\n",
       "       [ 1.00000000e+00,  2.26130653e-01,  5.11350723e-02],\n",
       "       [ 1.00000000e+00,  2.56281407e-01,  6.56801596e-02],\n",
       "       [ 1.00000000e+00,  2.86432161e-01,  8.20433827e-02],\n",
       "       [ 1.00000000e+00,  3.16582915e-01,  1.00224742e-01],\n",
       "       [ 1.00000000e+00,  3.46733668e-01,  1.20224237e-01],\n",
       "       [ 1.00000000e+00,  3.76884422e-01,  1.42041868e-01],\n",
       "       [ 1.00000000e+00,  4.07035176e-01,  1.65677634e-01],\n",
       "       [ 1.00000000e+00,  4.37185930e-01,  1.91131537e-01],\n",
       "       [ 1.00000000e+00,  4.67336683e-01,  2.18403576e-01],\n",
       "       [ 1.00000000e+00,  4.97487437e-01,  2.47493750e-01],\n",
       "       [ 1.00000000e+00,  5.27638191e-01,  2.78402061e-01],\n",
       "       [ 1.00000000e+00,  5.57788945e-01,  3.11128507e-01],\n",
       "       [ 1.00000000e+00,  5.87939698e-01,  3.45673089e-01],\n",
       "       [ 1.00000000e+00,  6.18090452e-01,  3.82035807e-01],\n",
       "       [ 1.00000000e+00,  6.48241206e-01,  4.20216661e-01],\n",
       "       [ 1.00000000e+00,  6.78391960e-01,  4.60215651e-01],\n",
       "       [ 1.00000000e+00,  7.08542714e-01,  5.02032777e-01],\n",
       "       [ 1.00000000e+00,  7.38693467e-01,  5.45668039e-01],\n",
       "       [ 1.00000000e+00,  7.68844221e-01,  5.91121436e-01],\n",
       "       [ 1.00000000e+00,  7.98994975e-01,  6.38392970e-01],\n",
       "       [ 1.00000000e+00,  8.29145729e-01,  6.87482639e-01],\n",
       "       [ 1.00000000e+00,  8.59296482e-01,  7.38390445e-01],\n",
       "       [ 1.00000000e+00,  8.89447236e-01,  7.91116386e-01],\n",
       "       [ 1.00000000e+00,  9.19597990e-01,  8.45660463e-01],\n",
       "       [ 1.00000000e+00,  9.49748744e-01,  9.02022676e-01],\n",
       "       [ 1.00000000e+00,  9.79899497e-01,  9.60203025e-01],\n",
       "       [ 1.00000000e+00,  1.01005025e+00,  1.02020151e+00],\n",
       "       [ 1.00000000e+00,  1.04020101e+00,  1.08201813e+00],\n",
       "       [ 1.00000000e+00,  1.07035176e+00,  1.14565289e+00],\n",
       "       [ 1.00000000e+00,  1.10050251e+00,  1.21110578e+00],\n",
       "       [ 1.00000000e+00,  1.13065327e+00,  1.27837681e+00],\n",
       "       [ 1.00000000e+00,  1.16080402e+00,  1.34746597e+00],\n",
       "       [ 1.00000000e+00,  1.19095477e+00,  1.41837327e+00],\n",
       "       [ 1.00000000e+00,  1.22110553e+00,  1.49109871e+00],\n",
       "       [ 1.00000000e+00,  1.25125628e+00,  1.56564228e+00],\n",
       "       [ 1.00000000e+00,  1.28140704e+00,  1.64200399e+00],\n",
       "       [ 1.00000000e+00,  1.31155779e+00,  1.72018383e+00],\n",
       "       [ 1.00000000e+00,  1.34170854e+00,  1.80018181e+00],\n",
       "       [ 1.00000000e+00,  1.37185930e+00,  1.88199793e+00],\n",
       "       [ 1.00000000e+00,  1.40201005e+00,  1.96563218e+00],\n",
       "       [ 1.00000000e+00,  1.43216080e+00,  2.05108457e+00],\n",
       "       [ 1.00000000e+00,  1.46231156e+00,  2.13835509e+00],\n",
       "       [ 1.00000000e+00,  1.49246231e+00,  2.22744375e+00],\n",
       "       [ 1.00000000e+00,  1.52261307e+00,  2.31835055e+00],\n",
       "       [ 1.00000000e+00,  1.55276382e+00,  2.41107548e+00],\n",
       "       [ 1.00000000e+00,  1.58291457e+00,  2.50561854e+00],\n",
       "       [ 1.00000000e+00,  1.61306533e+00,  2.60197975e+00],\n",
       "       [ 1.00000000e+00,  1.64321608e+00,  2.70015909e+00],\n",
       "       [ 1.00000000e+00,  1.67336683e+00,  2.80015656e+00],\n",
       "       [ 1.00000000e+00,  1.70351759e+00,  2.90197217e+00],\n",
       "       [ 1.00000000e+00,  1.73366834e+00,  3.00560592e+00],\n",
       "       [ 1.00000000e+00,  1.76381910e+00,  3.11105780e+00],\n",
       "       [ 1.00000000e+00,  1.79396985e+00,  3.21832782e+00],\n",
       "       [ 1.00000000e+00,  1.82412060e+00,  3.32741597e+00],\n",
       "       [ 1.00000000e+00,  1.85427136e+00,  3.43832226e+00],\n",
       "       [ 1.00000000e+00,  1.88442211e+00,  3.55104669e+00],\n",
       "       [ 1.00000000e+00,  1.91457286e+00,  3.66558925e+00],\n",
       "       [ 1.00000000e+00,  1.94472362e+00,  3.78194995e+00],\n",
       "       [ 1.00000000e+00,  1.97487437e+00,  3.90012878e+00],\n",
       "       [ 1.00000000e+00,  2.00502513e+00,  4.02012575e+00],\n",
       "       [ 1.00000000e+00,  2.03517588e+00,  4.14194086e+00],\n",
       "       [ 1.00000000e+00,  2.06532663e+00,  4.26557410e+00],\n",
       "       [ 1.00000000e+00,  2.09547739e+00,  4.39102548e+00],\n",
       "       [ 1.00000000e+00,  2.12562814e+00,  4.51829499e+00],\n",
       "       [ 1.00000000e+00,  2.15577889e+00,  4.64738264e+00],\n",
       "       [ 1.00000000e+00,  2.18592965e+00,  4.77828843e+00],\n",
       "       [ 1.00000000e+00,  2.21608040e+00,  4.91101235e+00],\n",
       "       [ 1.00000000e+00,  2.24623116e+00,  5.04555441e+00],\n",
       "       [ 1.00000000e+00,  2.27638191e+00,  5.18191460e+00],\n",
       "       [ 1.00000000e+00,  2.30653266e+00,  5.32009293e+00],\n",
       "       [ 1.00000000e+00,  2.33668342e+00,  5.46008939e+00],\n",
       "       [ 1.00000000e+00,  2.36683417e+00,  5.60190399e+00],\n",
       "       [ 1.00000000e+00,  2.39698492e+00,  5.74553673e+00],\n",
       "       [ 1.00000000e+00,  2.42713568e+00,  5.89098760e+00],\n",
       "       [ 1.00000000e+00,  2.45728643e+00,  6.03825661e+00],\n",
       "       [ 1.00000000e+00,  2.48743719e+00,  6.18734375e+00],\n",
       "       [ 1.00000000e+00,  2.51758794e+00,  6.33824903e+00],\n",
       "       [ 1.00000000e+00,  2.54773869e+00,  6.49097245e+00],\n",
       "       [ 1.00000000e+00,  2.57788945e+00,  6.64551400e+00],\n",
       "       [ 1.00000000e+00,  2.60804020e+00,  6.80187369e+00],\n",
       "       [ 1.00000000e+00,  2.63819095e+00,  6.96005151e+00],\n",
       "       [ 1.00000000e+00,  2.66834171e+00,  7.12004747e+00],\n",
       "       [ 1.00000000e+00,  2.69849246e+00,  7.28186157e+00],\n",
       "       [ 1.00000000e+00,  2.72864322e+00,  7.44549380e+00],\n",
       "       [ 1.00000000e+00,  2.75879397e+00,  7.61094417e+00],\n",
       "       [ 1.00000000e+00,  2.78894472e+00,  7.77821267e+00],\n",
       "       [ 1.00000000e+00,  2.81909548e+00,  7.94729931e+00],\n",
       "       [ 1.00000000e+00,  2.84924623e+00,  8.11820409e+00],\n",
       "       [ 1.00000000e+00,  2.87939698e+00,  8.29092700e+00],\n",
       "       [ 1.00000000e+00,  2.90954774e+00,  8.46546804e+00],\n",
       "       [ 1.00000000e+00,  2.93969849e+00,  8.64182723e+00],\n",
       "       [ 1.00000000e+00,  2.96984925e+00,  8.82000455e+00],\n",
       "       [ 1.00000000e+00,  3.00000000e+00,  9.00000000e+00]])"
      ]
     },
     "execution_count": 47,
     "metadata": {},
     "output_type": "execute_result"
    }
   ],
   "source": [
    "X_new_poly"
   ]
  },
  {
   "cell_type": "code",
   "execution_count": 50,
   "id": "6626a9a1",
   "metadata": {},
   "outputs": [
    {
     "data": {
      "image/png": "[encoded data removed]",
      "text/plain": [
       "<Figure size 640x480 with 1 Axes>"
      ]
     },
     "metadata": {},
     "output_type": "display_data"
    }
   ],
   "source": [
    "Y_new=regression.predict(X_new_poly)\n",
    "plt.plot(X_new,Y_new,\"r-\",linewidth=2,label=\"Predictions\")\n",
    "plt.plot(X_train,Y_train,\"b.\",label=\"Training points\")\n",
    "plt.plot(X_test,Y_test,\"g+\",label=\"Testing points\")\n",
    "plt.xlabel(\"X\")\n",
    "plt.ylabel(\"Y\")\n",
    "plt.legend()\n",
    "plt.show()"
   ]
  },
  {
   "cell_type": "markdown",
   "id": "5e997c3b",
   "metadata": {},
   "source": [
    "#  Pipeline Concepts for Polynomial Regression"
   ]
  },
  {
   "cell_type": "code",
   "execution_count": 65,
   "id": "3562b95e",
   "metadata": {},
   "outputs": [],
   "source": [
    "from sklearn.pipeline import Pipeline\n",
    "def poly_regression(degree):\n",
    "    X_new = np.linspace(-3, 3, 200).reshape(200, 1)\n",
    "    \n",
    "    poly_features=PolynomialFeatures(degree=degree,include_bias=True)\n",
    "    lin_reg=LinearRegression()\n",
    "    poly_regression=Pipeline([\n",
    "        (\"poly_features\",poly_features),\n",
    "        (\"lin_reg\",lin_reg)\n",
    "    ])\n",
    "    poly_regression.fit(X_train,Y_train) ## ploynomial and fit of linear reression\n",
    "    Y_pred_new=poly_regression.predict(X_new)\n",
    "    #plotting prediction line\n",
    "    plt.plot(X_new, Y_pred_new,'r', label=\"Degree \" + str(degree), linewidth=2)\n",
    "    plt.plot(X_train, Y_train, \"b.\", linewidth=3)\n",
    "    plt.plot(X_test, Y_test, \"g+\", linewidth=3)\n",
    "    plt.legend(loc=\"upper left\")\n",
    "    plt.xlabel(\"X\")\n",
    "    plt.ylabel(\"y\")\n",
    "    plt.axis([-4,4, 0, 10])\n",
    "    plt.show()\n",
    "    "
   ]
  },
  {
   "cell_type": "code",
   "execution_count": 86,
   "id": "43dd91c3",
   "metadata": {},
   "outputs": [
    {
     "data": {
      "image/png": "[encoded data removed]",
      "text/plain": [
       "<Figure size 640x480 with 1 Axes>"
      ]
     },
     "metadata": {},
     "output_type": "display_data"
    },
    {
     "data": {
      "image/png": "[encoded data removed]",
      "text/plain": [
       "<Figure size 640x480 with 1 Axes>"
      ]
     },
     "metadata": {},
     "output_type": "display_data"
    },
    {
     "data": {
      "text/plain": [
       "(None, None)"
      ]
     },
     "execution_count": 86,
     "metadata": {},
     "output_type": "execute_result"
    }
   ],
   "source": [
    "poly_regression(3),poly_regression(7)\n"
   ]
  },
  {
   "cell_type": "code",
   "execution_count": null,
   "id": "4e9dfad2",
   "metadata": {},
   "outputs": [],
   "source": []
  }
 ],
 "metadata": {
  "kernelspec": {
   "display_name": "Python 3 (ipykernel)",
   "language": "python",
   "name": "python3"
  },
  "language_info": {
   "codemirror_mode": {
    "name": "ipython",
    "version": 3
   },
   "file_extension": ".py",
   "mimetype": "text/x-python",
   "name": "python",
   "nbconvert_exporter": "python",
   "pygments_lexer": "ipython3",
   "version": "3.10.9"
  }
 },
 "nbformat": 4,
 "nbformat_minor": 5
}
